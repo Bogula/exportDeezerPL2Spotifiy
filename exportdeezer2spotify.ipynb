{
 "cells": [
  {
   "cell_type": "code",
   "execution_count": null,
   "metadata": {},
   "outputs": [],
   "source": [
    "#Export code based on Corentin Chauvin\n",
    "#https://github.com/CorentinChauvin/playlist-exporter\n",
    "\n",
    "DeezerPLNo = 12345\n",
    "SpotifyPLNO = 0\n",
    "global CSVFilename \n",
    "CSVFilename= 'DPL'+str(DeezerPLNo)+'.csv'\n",
    "\n",
    "print(\"Saving Deezer Playlist to: \", CSVFilename)"
   ]
  },
  {
   "cell_type": "code",
   "execution_count": null,
   "metadata": {},
   "outputs": [],
   "source": [
    "#Extract tracks from Public Deezer Playlist\n",
    "import requests\n",
    "\n",
    "def load_playlist(playlist_id):\n",
    "    STATUS_OK = 200\n",
    "    base_url = \"https://api.deezer.com/playlist/\"\n",
    "    playlist_id = str(playlist_id)\n",
    "    tracks_req = \"/tracks?index=0&limit={}\"\n",
    "\n",
    "    r = requests.get(base_url + playlist_id)\n",
    "\n",
    "    if r.status_code != STATUS_OK:\n",
    "        print(\"Status code: {}\".format(r.status_code))\n",
    "        return None\n",
    "\n",
    "    data = r.json()\n",
    "\n",
    "    nb_tracks = data['nb_tracks']\n",
    "    songs = None\n",
    "\n",
    "    if len(data['tracks']['data']) == nb_tracks:\n",
    "        songs = data['tracks']['data']\n",
    "    else:\n",
    "        # By default, loads only 400 songs. To load everything, should use an other\n",
    "        # kind of request\n",
    "        r = requests.get(base_url + playlist_id + tracks_req.format(nb_tracks))\n",
    "        songs = r.json()['data']\n",
    "\n",
    "\n",
    "    # Create a string of tracks\n",
    "    s = \"Title,Artist,Album,Duration,Time added,Id song,Id artist,Id album\\n\\n\"\n",
    "\n",
    "    for song in songs:\n",
    "        s += \"\\\"{}\\\",\\\"{}\\\",\\\"{}\\\",{},{},{},{},{}\\n\".format(song['title'], song['artist']['name'], song['album']['title'],\n",
    "            song['duration'], song['time_add'], song['id'], song['artist']['id'], song['album']['id'])\n",
    "\n",
    "    return data, s"
   ]
  },
  {
   "cell_type": "code",
   "execution_count": null,
   "metadata": {},
   "outputs": [],
   "source": [
    "#Save Tracklist as CSV-File\n",
    "tracks_string = None\n",
    "\n",
    "def save_pl():\n",
    "    global deezer_pl_name\n",
    "    global tracks_string\n",
    "\n",
    "    data, tracks_string = load_playlist(DeezerPLNo)\n",
    "\n",
    "    if data is not None:\n",
    "        deezer_pl_name =data['title']\n",
    "        print(\"Playlist name: {}     \".format(data['title']))\n",
    "        print(\"No tracks: {}\".format(data['nb_tracks']))\n",
    "\n",
    "        print(tracks_string)\n",
    "        if CSVFilename is not None:\n",
    "          f = open(CSVFilename, 'w+')\n",
    "          f.write(tracks_string)\n",
    "          f.close()\n",
    "\n"
   ]
  },
  {
   "cell_type": "code",
   "execution_count": null,
   "metadata": {},
   "outputs": [],
   "source": [
    "i = save_pl()"
   ]
  },
  {
   "cell_type": "markdown",
   "metadata": {},
   "source": [
    "# Write new list to Spotify with spotipy\n",
    "https://github.com/plamere/spotipy/tree/master/examples"
   ]
  },
  {
   "cell_type": "code",
   "execution_count": null,
   "metadata": {},
   "outputs": [],
   "source": [
    "CLIENT_ID = \"9ab44bco3849349384938943be8b2c63116c\"  #add your id from developer.spotify\n",
    "CLIENT_SEC = \"3493849384938q0830983204\"             #add your id from developer.spotify\n",
    "REDIRECT_URI = \"http://localhost:8000/\"             #add create idleing webserver with  python3 -m http.server\n",
    "username='yourspotifyusername'\n",
    "\n"
   ]
  },
  {
   "cell_type": "code",
   "execution_count": null,
   "metadata": {},
   "outputs": [],
   "source": [
    "import sys\n",
    "import spotipy\n",
    "import spotipy.util as util\n",
    "\n",
    "#AUTH\n",
    "\n",
    "scope = 'playlist-modify-public user-library-read'\n",
    "\n",
    "token=util.prompt_for_user_token(username,\n",
    "                           scope,\n",
    "                           client_id=CLIENT_ID,\n",
    "                           client_secret=CLIENT_SEC,\n",
    "                           redirect_uri=REDIRECT_URI)\n",
    "\n",
    "\n",
    "if token:\n",
    "    sp = spotipy.Spotify(auth=token)\n",
    "  \n",
    "else:\n",
    "    print(\"Can't get token for\", username)\n",
    "    \n",
    "   "
   ]
  },
  {
   "cell_type": "code",
   "execution_count": null,
   "metadata": {},
   "outputs": [],
   "source": [
    "print(\"Adding \", deezer_pl_name, \" to your Spotify Public Playlistst: \")\n",
    "\n",
    "#Show all public playlists\n",
    "results = sp.current_user_playlists(limit=50)\n",
    "for i, item in enumerate(results['items']):\n",
    "    print(\"%d %s %s\" % (i, item['name'],item['id']))"
   ]
  },
  {
   "cell_type": "code",
   "execution_count": null,
   "metadata": {
    "scrolled": true
   },
   "outputs": [],
   "source": [
    "import csv\n",
    "import re\n",
    "\n",
    "OldList = []\n",
    "Failed =[]\n",
    "\n",
    "print (\"Creating new Playlist \", deezer_pl_name)\n",
    "print (\"with tracks: \")\n",
    "with open(CSVFilename) as csvfile:\n",
    "        csvdata = csv.DictReader(csvfile)\n",
    "        for row in csvdata:\n",
    "            search_str= re.sub(r'\\([^)]*\\)', '', row['Title']) + ' ' +row['Artist']\n",
    "            #print(search_str)\n",
    "            results = sp.search(q=search_str, type='track')\n",
    "            try:\n",
    "              r =results['tracks']['items'][0]['id']   \n",
    "            except IndexError:\n",
    "              #print('Importing Playlist has failed for this track: ',search_str )\n",
    "              Failed.append(search_str)\n",
    "              r=\"\"\n",
    "            if r !=\"\":  \n",
    "                print(search_str)\n",
    "                OldList.append(r)    \n",
    "            \n",
    "print('------')\n",
    "print(\"Import has failed for the following tracks \")\n",
    "print(', '.join(Failed) )"
   ]
  },
  {
   "cell_type": "code",
   "execution_count": null,
   "metadata": {},
   "outputs": [],
   "source": [
    "\n",
    "user_id = sp.me()['id']\n",
    "res = sp.user_playlist_create(user_id, deezer_pl_name)\n",
    "id_newlist= res['id']\n",
    "res2 = sp.user_playlist_add_tracks(user_id,id_newlist , OldList)\n",
    "\n"
   ]
  },
  {
   "cell_type": "code",
   "execution_count": null,
   "metadata": {},
   "outputs": [],
   "source": [
    "#print(res2)\n",
    "if (res2):\n",
    "  print(\"Created new playlist for Spotify User\", username, \" with Title: \", deezer_pl_name)"
   ]
  },
  {
   "cell_type": "code",
   "execution_count": null,
   "metadata": {},
   "outputs": [],
   "source": []
  }
 ],
 "metadata": {
  "kernelspec": {
   "display_name": "Python 3",
   "language": "python",
   "name": "python3"
  },
  "language_info": {
   "codemirror_mode": {
    "name": "ipython",
    "version": 3
   },
   "file_extension": ".py",
   "mimetype": "text/x-python",
   "name": "python",
   "nbconvert_exporter": "python",
   "pygments_lexer": "ipython3",
   "version": "3.7.6"
  }
 },
 "nbformat": 4,
 "nbformat_minor": 4
}
